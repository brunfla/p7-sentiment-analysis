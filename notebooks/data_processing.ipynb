{
 "cells": [
  {
   "cell_type": "markdown",
   "metadata": {},
   "source": [
    "# Réalisez une analyse de sentiments grâce au Deep Learning"
   ]
  },
  {
   "cell_type": "markdown",
   "metadata": {},
   "source": [
    "## Data preprocessing"
   ]
  },
  {
   "cell_type": "code",
   "execution_count": 64,
   "metadata": {},
   "outputs": [
    {
     "data": {
      "text/html": [
       "<div>\n",
       "<style scoped>\n",
       "    .dataframe tbody tr th:only-of-type {\n",
       "        vertical-align: middle;\n",
       "    }\n",
       "\n",
       "    .dataframe tbody tr th {\n",
       "        vertical-align: top;\n",
       "    }\n",
       "\n",
       "    .dataframe thead th {\n",
       "        text-align: right;\n",
       "    }\n",
       "</style>\n",
       "<table border=\"1\" class=\"dataframe\">\n",
       "  <thead>\n",
       "    <tr style=\"text-align: right;\">\n",
       "      <th></th>\n",
       "      <th>id</th>\n",
       "      <th>timestamp</th>\n",
       "      <th>date</th>\n",
       "      <th>query</th>\n",
       "      <th>user</th>\n",
       "      <th>tweet</th>\n",
       "    </tr>\n",
       "  </thead>\n",
       "  <tbody>\n",
       "    <tr>\n",
       "      <th>0</th>\n",
       "      <td>0</td>\n",
       "      <td>1467810369</td>\n",
       "      <td>Mon Apr 06 22:19:45 PDT 2009</td>\n",
       "      <td>NO_QUERY</td>\n",
       "      <td>_TheSpecialOne_</td>\n",
       "      <td>@switchfoot http://twitpic.com/2y1zl - Awww, t...</td>\n",
       "    </tr>\n",
       "    <tr>\n",
       "      <th>1</th>\n",
       "      <td>0</td>\n",
       "      <td>1467810672</td>\n",
       "      <td>Mon Apr 06 22:19:49 PDT 2009</td>\n",
       "      <td>NO_QUERY</td>\n",
       "      <td>scotthamilton</td>\n",
       "      <td>is upset that he can't update his Facebook by ...</td>\n",
       "    </tr>\n",
       "    <tr>\n",
       "      <th>2</th>\n",
       "      <td>0</td>\n",
       "      <td>1467810917</td>\n",
       "      <td>Mon Apr 06 22:19:53 PDT 2009</td>\n",
       "      <td>NO_QUERY</td>\n",
       "      <td>mattycus</td>\n",
       "      <td>@Kenichan I dived many times for the ball. Man...</td>\n",
       "    </tr>\n",
       "    <tr>\n",
       "      <th>3</th>\n",
       "      <td>0</td>\n",
       "      <td>1467811184</td>\n",
       "      <td>Mon Apr 06 22:19:57 PDT 2009</td>\n",
       "      <td>NO_QUERY</td>\n",
       "      <td>ElleCTF</td>\n",
       "      <td>my whole body feels itchy and like its on fire</td>\n",
       "    </tr>\n",
       "    <tr>\n",
       "      <th>4</th>\n",
       "      <td>0</td>\n",
       "      <td>1467811193</td>\n",
       "      <td>Mon Apr 06 22:19:57 PDT 2009</td>\n",
       "      <td>NO_QUERY</td>\n",
       "      <td>Karoli</td>\n",
       "      <td>@nationwideclass no, it's not behaving at all....</td>\n",
       "    </tr>\n",
       "  </tbody>\n",
       "</table>\n",
       "</div>"
      ],
      "text/plain": [
       "   id   timestamp                          date     query             user  \\\n",
       "0   0  1467810369  Mon Apr 06 22:19:45 PDT 2009  NO_QUERY  _TheSpecialOne_   \n",
       "1   0  1467810672  Mon Apr 06 22:19:49 PDT 2009  NO_QUERY    scotthamilton   \n",
       "2   0  1467810917  Mon Apr 06 22:19:53 PDT 2009  NO_QUERY         mattycus   \n",
       "3   0  1467811184  Mon Apr 06 22:19:57 PDT 2009  NO_QUERY          ElleCTF   \n",
       "4   0  1467811193  Mon Apr 06 22:19:57 PDT 2009  NO_QUERY           Karoli   \n",
       "\n",
       "                                               tweet  \n",
       "0  @switchfoot http://twitpic.com/2y1zl - Awww, t...  \n",
       "1  is upset that he can't update his Facebook by ...  \n",
       "2  @Kenichan I dived many times for the ball. Man...  \n",
       "3    my whole body feels itchy and like its on fire   \n",
       "4  @nationwideclass no, it's not behaving at all....  "
      ]
     },
     "execution_count": 64,
     "metadata": {},
     "output_type": "execute_result"
    }
   ],
   "source": [
    "import pandas as pd\n",
    "import re\n",
    "\n",
    "# Chargement du fichier avec un encodage différent\n",
    "df = pd.read_csv(\"../data/input/training.1600000.processed.noemoticon.utf-8.csv\", \n",
    "                 header=None, \n",
    "                 names=[\"id\", \"timestamp\", \"date\", \"query\", \"user\", \"tweet\"], \n",
    "                 )\n",
    "\n",
    "# Vérification des premières lignes\n",
    "df.head()"
   ]
  },
  {
   "cell_type": "code",
   "execution_count": 65,
   "metadata": {},
   "outputs": [
    {
     "data": {
      "text/html": [
       "<div>\n",
       "<style scoped>\n",
       "    .dataframe tbody tr th:only-of-type {\n",
       "        vertical-align: middle;\n",
       "    }\n",
       "\n",
       "    .dataframe tbody tr th {\n",
       "        vertical-align: top;\n",
       "    }\n",
       "\n",
       "    .dataframe thead th {\n",
       "        text-align: right;\n",
       "    }\n",
       "</style>\n",
       "<table border=\"1\" class=\"dataframe\">\n",
       "  <thead>\n",
       "    <tr style=\"text-align: right;\">\n",
       "      <th></th>\n",
       "      <th>id</th>\n",
       "      <th>timestamp</th>\n",
       "      <th>date</th>\n",
       "      <th>query</th>\n",
       "      <th>user</th>\n",
       "      <th>tweet</th>\n",
       "    </tr>\n",
       "  </thead>\n",
       "  <tbody>\n",
       "  </tbody>\n",
       "</table>\n",
       "</div>"
      ],
      "text/plain": [
       "Empty DataFrame\n",
       "Columns: [id, timestamp, date, query, user, tweet]\n",
       "Index: []"
      ]
     },
     "execution_count": 65,
     "metadata": {},
     "output_type": "execute_result"
    }
   ],
   "source": [
    "nan_rows = df[df.isna().any(axis=1)]\n",
    "nan_rows"
   ]
  },
  {
   "cell_type": "markdown",
   "metadata": {},
   "source": [
    "### Clean"
   ]
  },
  {
   "cell_type": "code",
   "execution_count": 66,
   "metadata": {},
   "outputs": [],
   "source": [
    "# Supprimer les tweets vides (NaN ou chaînes vides)\n",
    "df = df[~(df['tweet'].isna() | (df['tweet'] == \"\"))]"
   ]
  },
  {
   "cell_type": "code",
   "execution_count": 67,
   "metadata": {},
   "outputs": [
    {
     "data": {
      "image/png": "[encoded data removed]",
      "text/plain": [
       "<Figure size 700x700 with 1 Axes>"
      ]
     },
     "metadata": {},
     "output_type": "display_data"
    }
   ],
   "source": [
    "import matplotlib.pyplot as plt\n",
    "\n",
    "# Distribution des labels dans la colonne 'id'\n",
    "label_counts = df['id'].value_counts()\n",
    "\n",
    "# Map des ids vers les labels\n",
    "label_map = {0: 'negative', 4: 'positive', 2: 'neutral'}\n",
    "\n",
    "# Remap des ids vers les labels\n",
    "label_counts.index = label_counts.index.map(label_map)\n",
    "\n",
    "# Création du graphique camembert\n",
    "plt.figure(figsize=(7, 7))\n",
    "plt.pie(label_counts, labels=label_counts.index, autopct='%1.1f%%', startangle=90, colors=['#ff9999','#66b3ff','#99ff99'])\n",
    "plt.title(\"Distribution des sentiments dans les tweets\")\n",
    "plt.axis('equal')  # Pour un cercle parfait\n",
    "plt.show()\n"
   ]
  },
  {
   "cell_type": "code",
   "execution_count": 68,
   "metadata": {},
   "outputs": [
    {
     "name": "stdout",
     "output_type": "stream",
     "text": [
      "   id   timestamp                          date     query             user  \\\n",
      "0   0  1467810369  Mon Apr 06 22:19:45 PDT 2009  NO_QUERY  _TheSpecialOne_   \n",
      "1   0  1467810672  Mon Apr 06 22:19:49 PDT 2009  NO_QUERY    scotthamilton   \n",
      "2   0  1467810917  Mon Apr 06 22:19:53 PDT 2009  NO_QUERY         mattycus   \n",
      "3   0  1467811184  Mon Apr 06 22:19:57 PDT 2009  NO_QUERY          ElleCTF   \n",
      "4   0  1467811193  Mon Apr 06 22:19:57 PDT 2009  NO_QUERY           Karoli   \n",
      "\n",
      "                                               tweet  \n",
      "0  @switchfoot http://twitpic.com/2y1zl - Awww, t...  \n",
      "1  is upset that he can't update his Facebook by ...  \n",
      "2  @Kenichan I dived many times for the ball. Man...  \n",
      "3    my whole body feels itchy and like its on fire   \n",
      "4  @nationwideclass no, it's not behaving at all....  \n"
     ]
    },
    {
     "data": {
      "image/png": "[encoded data removed]",
      "text/plain": [
       "<Figure size 1000x600 with 1 Axes>"
      ]
     },
     "metadata": {},
     "output_type": "display_data"
    },
    {
     "name": "stdout",
     "output_type": "stream",
     "text": [
      "Longueur maximale d'un tweet (en mots) : 64\n"
     ]
    }
   ],
   "source": [
    "import pandas as pd\n",
    "import matplotlib.pyplot as plt\n",
    "\n",
    "# Chargement du fichier avec un encodage spécifique\n",
    "df = pd.read_csv(\"../data/input/training.1600000.processed.noemoticon.utf-8.csv\", \n",
    "                 header=None, \n",
    "                 names=[\"id\", \"timestamp\", \"date\", \"query\", \"user\", \"tweet\"])\n",
    "\n",
    "# Vérification des premières lignes\n",
    "print(df.head())\n",
    "\n",
    "# Calcul de la longueur des tweets (en nombre de mots)\n",
    "df['word_count'] = df['tweet'].apply(lambda x: len(str(x).split()))\n",
    "\n",
    "# Distribution des longueurs des tweets\n",
    "plt.figure(figsize=(10, 6))\n",
    "plt.hist(df['word_count'], bins=50, color='blue', alpha=0.7)\n",
    "plt.title(\"Distribution des mots dans les tweets\")\n",
    "plt.xlabel(\"Nombre de mots\")\n",
    "plt.ylabel(\"Fréquence\")\n",
    "plt.grid(axis='y', linestyle='--', alpha=0.7)\n",
    "plt.show()\n",
    "\n",
    "# Calcul de la longueur maximale\n",
    "max_length = df['word_count'].max()\n",
    "print(f\"Longueur maximale d'un tweet (en mots) : {max_length}\")"
   ]
  },
  {
   "cell_type": "markdown",
   "metadata": {},
   "source": [
    "### Tokensisation"
   ]
  },
  {
   "cell_type": "code",
   "execution_count": 69,
   "metadata": {},
   "outputs": [
    {
     "name": "stderr",
     "output_type": "stream",
     "text": [
      "[nltk_data] Downloading package stopwords to /home/bruno/nltk_data...\n",
      "[nltk_data]   Package stopwords is already up-to-date!\n",
      "[nltk_data] Downloading package wordnet to /home/bruno/nltk_data...\n",
      "[nltk_data]   Package wordnet is already up-to-date!\n"
     ]
    },
    {
     "data": {
      "image/png": "[encoded data removed]",
      "text/plain": [
       "<Figure size 1000x600 with 1 Axes>"
      ]
     },
     "metadata": {},
     "output_type": "display_data"
    },
    {
     "name": "stdout",
     "output_type": "stream",
     "text": [
      "Longueur maximale d'un tweet (après prétraitement, en mots) : 27\n"
     ]
    }
   ],
   "source": [
    "import pandas as pd\n",
    "import matplotlib.pyplot as plt\n",
    "import re\n",
    "import nltk\n",
    "from nltk.corpus import stopwords\n",
    "from nltk.stem import WordNetLemmatizer\n",
    "import emoji\n",
    "\n",
    "# Télécharger les ressources nécessaires de NLTK\n",
    "nltk.download('stopwords')\n",
    "nltk.download('wordnet')\n",
    "\n",
    "# Initialisation de stopwords et lemmatizer\n",
    "stop_words = set(stopwords.words('english'))\n",
    "lemmatizer = WordNetLemmatizer()\n",
    "\n",
    "def preprocess_tweet(tweet, min_word_length=3, vocabulary=None):\n",
    "    \"\"\"\n",
    "    Prétraitement d'un tweet individuel :\n",
    "    - Mise en minuscule\n",
    "    - Suppression des URLs, mentions, hashtags, ponctuation et espaces inutiles\n",
    "    - Suppression des stopwords\n",
    "    - Suppression des artefacts spécifiques aux tweets (chiffres, emojis, répétitions)\n",
    "    - Lemmatisation des mots\n",
    "    - Filtrage par longueur de mot\n",
    "    - Option : Limitation du vocabulaire à une liste donnée\n",
    "    \n",
    "    Args:\n",
    "    tweet (str): Le texte brut du tweet.\n",
    "    min_word_length (int): Longueur minimale pour conserver un mot.\n",
    "    vocabulary (set): Ensemble optionnel de mots autorisés dans le vocabulaire final.\n",
    "    \n",
    "    Returns:\n",
    "    str: Tweet prétraité.\n",
    "    \"\"\"\n",
    "    # Mise en minuscule\n",
    "    tweet = tweet.lower()\n",
    "\n",
    "    # Suppression des URLs, mentions et hashtags\n",
    "    tweet = re.sub(r'http\\S+|www\\S+|https\\S+', '', tweet)  # URLs\n",
    "    tweet = re.sub(r'@\\w+', '', tweet)  # Mentions\n",
    "    tweet = re.sub(r'#\\w+', '', tweet)  # Hashtags\n",
    "\n",
    "    # Suppression de la ponctuation et des espaces multiples\n",
    "    tweet = re.sub(r'[^\\w\\s]', '', tweet)  # Ponctuation\n",
    "    tweet = re.sub(r'\\s+', ' ', tweet).strip()  # Espaces multiples et espaces en début/fin\n",
    "\n",
    "    # Suppression des artefacts spécifiques aux tweets\n",
    "    tweet = re.sub(r'\\d+', '', tweet)  # Suppression des chiffres\n",
    "    tweet = emoji.replace_emoji(tweet, replace=\"\")  # Suppression des emojis\n",
    "    tweet = re.sub(r'(.)\\1{2,}', r'\\1', tweet)  # Réduction des répétitions de caractères\n",
    "\n",
    "    # Tokenisation, suppression des stopwords et lemmatisation\n",
    "    words = [\n",
    "        lemmatizer.lemmatize(word)\n",
    "        for word in tweet.split()\n",
    "        if word not in stop_words and len(word) >= min_word_length\n",
    "    ]\n",
    "\n",
    "    # Option : Limiter au vocabulaire donné\n",
    "    if vocabulary is not None:\n",
    "        words = [word for word in words if word in vocabulary]\n",
    "\n",
    "    # Reconstruction du tweet\n",
    "    return \" \".join(words)\n",
    "\n",
    "# Chargement des données\n",
    "df = pd.read_csv(\"../data/input/training.1600000.processed.noemoticon.utf-8.csv\", \n",
    "                 header=None, \n",
    "                 names=[\"id\", \"timestamp\", \"date\", \"query\", \"user\", \"tweet\"])\n",
    "\n",
    "# Application du prétraitement\n",
    "df['cleaned_tweet'] = df['tweet'].apply(preprocess_tweet)\n",
    "\n",
    "# Calcul de la longueur des tweets (en nombre de mots) après prétraitement\n",
    "df['word_count'] = df['cleaned_tweet'].apply(lambda x: len(x.split()))\n",
    "\n",
    "# Distribution des longueurs des tweets\n",
    "plt.figure(figsize=(10, 6))\n",
    "plt.hist(df['word_count'], bins=50, color='blue', alpha=0.7)\n",
    "plt.title(\"Distribution des mots dans les tweets (après prétraitement)\")\n",
    "plt.xlabel(\"Nombre de mots\")\n",
    "plt.ylabel(\"Fréquence\")\n",
    "plt.grid(axis='y', linestyle='--', alpha=0.7)\n",
    "plt.show()\n",
    "\n",
    "# Calcul de la longueur maximale\n",
    "max_length = df['word_count'].max()\n",
    "print(f\"Longueur maximale d'un tweet (après prétraitement, en mots) : {max_length}\")\n"
   ]
  },
  {
   "cell_type": "code",
   "execution_count": 70,
   "metadata": {},
   "outputs": [
    {
     "name": "stdout",
     "output_type": "stream",
     "text": [
      "Longueur ajustée pour couvrir 95% des tweets : 13\n"
     ]
    }
   ],
   "source": [
    "max_length_adjusted = int(df['word_count'].quantile(0.95))\n",
    "print(f\"Longueur ajustée pour couvrir 95% des tweets : {max_length_adjusted}\")"
   ]
  },
  {
   "cell_type": "code",
   "execution_count": 71,
   "metadata": {},
   "outputs": [
    {
     "name": "stdout",
     "output_type": "stream",
     "text": [
      "Taille du vocabulaire unique : 380425\n"
     ]
    }
   ],
   "source": [
    "from collections import Counter\n",
    "all_words = \" \".join(df['cleaned_tweet']).split()\n",
    "vocab = Counter(all_words)\n",
    "print(f\"Taille du vocabulaire unique : {len(vocab)}\")"
   ]
  },
  {
   "cell_type": "code",
   "execution_count": 72,
   "metadata": {},
   "outputs": [
    {
     "name": "stdout",
     "output_type": "stream",
     "text": [
      "10 mots les plus fréquents :\n"
     ]
    },
    {
     "name": "stdout",
     "output_type": "stream",
     "text": [
      "[('day', 104952), ('good', 89544), ('get', 85940), ('like', 79134), ('love', 68273), ('dont', 66960), ('work', 66678), ('today', 66380), ('going', 64136), ('time', 63967)]\n",
      "\n",
      "10 mots les plus rares :\n",
      "['muera', 'doucheclown', 'misslilly', 'twanking', 'uids', 'manwas', 'samro', 'coitus', 'nikster', 'shortsand']\n"
     ]
    }
   ],
   "source": [
    "from collections import Counter\n",
    "\n",
    "# Obtenez tous les mots uniques\n",
    "all_words = \" \".join(df['cleaned_tweet']).split()\n",
    "word_counts = Counter(all_words)\n",
    "\n",
    "# Affichez les mots les plus fréquents et les plus rares\n",
    "print(\"10 mots les plus fréquents :\")\n",
    "print(word_counts.most_common(10))\n",
    "\n",
    "print(\"\\n10 mots les plus rares :\")\n",
    "print([word for word, count in word_counts.items() if count == 1][:10])"
   ]
  },
  {
   "cell_type": "code",
   "execution_count": 73,
   "metadata": {},
   "outputs": [],
   "source": [
    "#import pandas as pd\n",
    "\n",
    "# Exemple de DataFrame\n",
    "#data = {'tweet': [\"@user Check out this amazing link: https://example.com! #amazing #fun\"]}\n",
    "#df = pd.DataFrame(data)\n",
    "\n",
    "# Application de la fonction\n",
    "#df['cleaned_tweet'] = df['tweet'].apply(preprocess_tweet)\n",
    "\n",
    "#print(df)"
   ]
  },
  {
   "cell_type": "code",
   "execution_count": 74,
   "metadata": {},
   "outputs": [
    {
     "name": "stdout",
     "output_type": "stream",
     "text": [
      "Nombre de mots rares (fréquence = 1) : 264798\n",
      "Exemples de mots rares : ['muera', 'doucheclown', 'misslilly', 'twanking', 'uids', 'manwas', 'samro', 'coitus', 'nikster', 'shortsand']\n",
      "Nombre de mots très longs (len > 20) : 3111\n",
      "Exemples de mots longs : ['packingpaintingcleaning', 'infrastructureinstead', 'superpupermegaovermodel', 'imagestoo_big_for_flickr', 'schoolworkouthomehomework', 'reproachfulyourebreakingmyheart', 'twittercomscroobiuspip', 'penderhakacongratulationbut', 'greaterlansingwelcome', 'traininghumanitiesastronomy']\n"
     ]
    }
   ],
   "source": [
    "from collections import Counter\n",
    "\n",
    "all_words = \" \".join(df['cleaned_tweet']).split()\n",
    "word_counts = Counter(all_words)\n",
    "\n",
    "# Analyser les mots les plus rares\n",
    "rare_words = [word for word, count in word_counts.items() if count == 1]\n",
    "print(f\"Nombre de mots rares (fréquence = 1) : {len(rare_words)}\")\n",
    "print(\"Exemples de mots rares :\", rare_words[:10])\n",
    "\n",
    "# Analyser les mots les plus longs\n",
    "long_words = [word for word in all_words if len(word) > 20]\n",
    "print(f\"Nombre de mots très longs (len > 20) : {len(long_words)}\")\n",
    "print(\"Exemples de mots longs :\", long_words[:10])"
   ]
  },
  {
   "cell_type": "code",
   "execution_count": 78,
   "metadata": {},
   "outputs": [],
   "source": [
    "import numpy as np\n",
    "from gensim.models import KeyedVectors\n",
    "\n",
    "# Charger GloVe Twitter\n",
    "glove_file = \"../data/input/glove.twitter.27B.200d.txt\"  # Ajustez le chemin si nécessaire\n",
    "glove_model = KeyedVectors.load_word2vec_format(glove_file, binary=False, no_header=True)\n",
    "\n",
    "def clean_with_glove(tweet, glove_model, threshold=0.6, max_word_length=20):\n",
    "    \"\"\"\n",
    "    Nettoyer un tweet en utilisant GloVe Twitter :\n",
    "    - Supprime les mots non valides (non présents dans GloVe).\n",
    "    - Corrige les fautes d'orthographe en utilisant la similarité sémantique.\n",
    "    - Gère les mots collés en essayant de les segmenter.\n",
    "\n",
    "    Args:\n",
    "    tweet (str): Texte brut du tweet.\n",
    "    glove_model (KeyedVectors): Modèle GloVe chargé.\n",
    "    threshold (float): Seuil pour considérer un mot comme valide sémantiquement.\n",
    "    max_word_length (int): Longueur maximale pour conserver un mot.\n",
    "\n",
    "    Returns:\n",
    "    str: Tweet nettoyé.\n",
    "    \"\"\"\n",
    "    def is_valid_word(word):\n",
    "        \"\"\"Vérifie si un mot est dans GloVe ou corrige les mots proches.\"\"\"\n",
    "        if len(word) > max_word_length:\n",
    "            return None  # Supprime les mots trop longs\n",
    "        if word in glove_model:\n",
    "            return word  # Mot valide\n",
    "        # Sinon, trouver un mot proche\n",
    "        try:\n",
    "            similar_words = glove_model.most_similar(word, topn=1) if word else []\n",
    "        except KeyError:\n",
    "            similar_words = []\n",
    "        if similar_words and similar_words[0][1] > threshold:\n",
    "            return similar_words[0][0]  # Retourne le mot corrigé\n",
    "        return None  # Mot invalide\n",
    "\n",
    "    def segment_words(word):\n",
    "        \"\"\"Essaye de segmenter les mots collés en utilisant GloVe.\"\"\"\n",
    "        for i in range(1, len(word)):\n",
    "            left, right = word[:i], word[i:]\n",
    "            if left in glove_model and right in glove_model:\n",
    "                return left + \" \" + right  # Retourne les mots segmentés\n",
    "        return None  # Retourne None si aucune segmentation valide\n",
    "\n",
    "    # Tokenisation\n",
    "    words = tweet.split()\n",
    "    \n",
    "    # Nettoyage des mots\n",
    "    cleaned_words = []\n",
    "    for word in words:\n",
    "        valid_word = is_valid_word(word)\n",
    "        if valid_word:\n",
    "            cleaned_words.append(valid_word)\n",
    "        else:\n",
    "            # Essayer de segmenter les mots collés\n",
    "            segmented_word = segment_words(word)\n",
    "            if segmented_word:\n",
    "                cleaned_words.extend(segmented_word.split())  # Ajouter les mots segmentés\n",
    "            # Sinon, ignorer le mot\n",
    "\n",
    "    return \" \".join(cleaned_words)\n",
    "\n"
   ]
  },
  {
   "cell_type": "code",
   "execution_count": 87,
   "metadata": {},
   "outputs": [],
   "source": [
    "# Charger GloVe Twitter\n",
    "from gensim.models import KeyedVectors\n",
    "\n",
    "glove_file = \"../data/input/glove.twitter.27B.200d.txt\"  # Chemin vers le fichier GloVe\n",
    "glove_model = KeyedVectors.load_word2vec_format(glove_file, binary=False, no_header=True)\n",
    "\n",
    "# Exemple d'application\n",
    "df['cleaned_glove_tweet'] = df['cleaned_tweet'].apply(\n",
    "    lambda tweet: clean_with_glove(tweet, glove_model)\n",
    ")\n",
    "\n",
    "min_freq = 5\n",
    "word_counts = Counter(\" \".join(df['cleaned_glove_tweet']).split())\n",
    "frequent_words = {word for word, count in word_counts.items() if count >= min_freq}\n",
    "\n",
    "# Filtrer les tweets en gardant uniquement les mots fréquents\n",
    "df['filtered_tweet'] = df['cleaned_glove_tweet'].apply(\n",
    "    lambda tweet: \" \".join([word for word in tweet.split() if word in frequent_words])\n",
    ")"
   ]
  },
  {
   "cell_type": "code",
   "execution_count": 86,
   "metadata": {},
   "outputs": [
    {
     "ename": "KeyError",
     "evalue": "'filtered_tweet'",
     "output_type": "error",
     "traceback": [
      "\u001b[0;31m---------------------------------------------------------------------------\u001b[0m",
      "\u001b[0;31mKeyError\u001b[0m                                  Traceback (most recent call last)",
      "File \u001b[0;32m~/miniconda3/envs/mlops-env/lib/python3.9/site-packages/pandas/core/indexes/base.py:3805\u001b[0m, in \u001b[0;36mIndex.get_loc\u001b[0;34m(self, key)\u001b[0m\n\u001b[1;32m   3804\u001b[0m \u001b[38;5;28;01mtry\u001b[39;00m:\n\u001b[0;32m-> 3805\u001b[0m     \u001b[38;5;28;01mreturn\u001b[39;00m \u001b[38;5;28;43mself\u001b[39;49m\u001b[38;5;241;43m.\u001b[39;49m\u001b[43m_engine\u001b[49m\u001b[38;5;241;43m.\u001b[39;49m\u001b[43mget_loc\u001b[49m\u001b[43m(\u001b[49m\u001b[43mcasted_key\u001b[49m\u001b[43m)\u001b[49m\n\u001b[1;32m   3806\u001b[0m \u001b[38;5;28;01mexcept\u001b[39;00m \u001b[38;5;167;01mKeyError\u001b[39;00m \u001b[38;5;28;01mas\u001b[39;00m err:\n",
      "File \u001b[0;32mindex.pyx:167\u001b[0m, in \u001b[0;36mpandas._libs.index.IndexEngine.get_loc\u001b[0;34m()\u001b[0m\n",
      "File \u001b[0;32mindex.pyx:196\u001b[0m, in \u001b[0;36mpandas._libs.index.IndexEngine.get_loc\u001b[0;34m()\u001b[0m\n",
      "File \u001b[0;32mpandas/_libs/hashtable_class_helper.pxi:7081\u001b[0m, in \u001b[0;36mpandas._libs.hashtable.PyObjectHashTable.get_item\u001b[0;34m()\u001b[0m\n",
      "File \u001b[0;32mpandas/_libs/hashtable_class_helper.pxi:7089\u001b[0m, in \u001b[0;36mpandas._libs.hashtable.PyObjectHashTable.get_item\u001b[0;34m()\u001b[0m\n",
      "\u001b[0;31mKeyError\u001b[0m: 'filtered_tweet'",
      "\nThe above exception was the direct cause of the following exception:\n",
      "\u001b[0;31mKeyError\u001b[0m                                  Traceback (most recent call last)",
      "Cell \u001b[0;32mIn[86], line 4\u001b[0m\n\u001b[1;32m      1\u001b[0m \u001b[38;5;28;01mfrom\u001b[39;00m \u001b[38;5;21;01mcollections\u001b[39;00m \u001b[38;5;28;01mimport\u001b[39;00m Counter\n\u001b[1;32m      3\u001b[0m \u001b[38;5;66;03m# Obtenir tous les mots uniques après nettoyage\u001b[39;00m\n\u001b[0;32m----> 4\u001b[0m all_words \u001b[38;5;241m=\u001b[39m \u001b[38;5;124m\"\u001b[39m\u001b[38;5;124m \u001b[39m\u001b[38;5;124m\"\u001b[39m\u001b[38;5;241m.\u001b[39mjoin(\u001b[43mdf\u001b[49m\u001b[43m[\u001b[49m\u001b[38;5;124;43m'\u001b[39;49m\u001b[38;5;124;43mfiltered_tweet\u001b[39;49m\u001b[38;5;124;43m'\u001b[39;49m\u001b[43m]\u001b[49m)\u001b[38;5;241m.\u001b[39msplit()\n\u001b[1;32m      5\u001b[0m word_counts \u001b[38;5;241m=\u001b[39m Counter(all_words)\n\u001b[1;32m      7\u001b[0m \u001b[38;5;66;03m# Afficher les mots fréquents\u001b[39;00m\n",
      "File \u001b[0;32m~/miniconda3/envs/mlops-env/lib/python3.9/site-packages/pandas/core/frame.py:4102\u001b[0m, in \u001b[0;36mDataFrame.__getitem__\u001b[0;34m(self, key)\u001b[0m\n\u001b[1;32m   4100\u001b[0m \u001b[38;5;28;01mif\u001b[39;00m \u001b[38;5;28mself\u001b[39m\u001b[38;5;241m.\u001b[39mcolumns\u001b[38;5;241m.\u001b[39mnlevels \u001b[38;5;241m>\u001b[39m \u001b[38;5;241m1\u001b[39m:\n\u001b[1;32m   4101\u001b[0m     \u001b[38;5;28;01mreturn\u001b[39;00m \u001b[38;5;28mself\u001b[39m\u001b[38;5;241m.\u001b[39m_getitem_multilevel(key)\n\u001b[0;32m-> 4102\u001b[0m indexer \u001b[38;5;241m=\u001b[39m \u001b[38;5;28;43mself\u001b[39;49m\u001b[38;5;241;43m.\u001b[39;49m\u001b[43mcolumns\u001b[49m\u001b[38;5;241;43m.\u001b[39;49m\u001b[43mget_loc\u001b[49m\u001b[43m(\u001b[49m\u001b[43mkey\u001b[49m\u001b[43m)\u001b[49m\n\u001b[1;32m   4103\u001b[0m \u001b[38;5;28;01mif\u001b[39;00m is_integer(indexer):\n\u001b[1;32m   4104\u001b[0m     indexer \u001b[38;5;241m=\u001b[39m [indexer]\n",
      "File \u001b[0;32m~/miniconda3/envs/mlops-env/lib/python3.9/site-packages/pandas/core/indexes/base.py:3812\u001b[0m, in \u001b[0;36mIndex.get_loc\u001b[0;34m(self, key)\u001b[0m\n\u001b[1;32m   3807\u001b[0m     \u001b[38;5;28;01mif\u001b[39;00m \u001b[38;5;28misinstance\u001b[39m(casted_key, \u001b[38;5;28mslice\u001b[39m) \u001b[38;5;129;01mor\u001b[39;00m (\n\u001b[1;32m   3808\u001b[0m         \u001b[38;5;28misinstance\u001b[39m(casted_key, abc\u001b[38;5;241m.\u001b[39mIterable)\n\u001b[1;32m   3809\u001b[0m         \u001b[38;5;129;01mand\u001b[39;00m \u001b[38;5;28many\u001b[39m(\u001b[38;5;28misinstance\u001b[39m(x, \u001b[38;5;28mslice\u001b[39m) \u001b[38;5;28;01mfor\u001b[39;00m x \u001b[38;5;129;01min\u001b[39;00m casted_key)\n\u001b[1;32m   3810\u001b[0m     ):\n\u001b[1;32m   3811\u001b[0m         \u001b[38;5;28;01mraise\u001b[39;00m InvalidIndexError(key)\n\u001b[0;32m-> 3812\u001b[0m     \u001b[38;5;28;01mraise\u001b[39;00m \u001b[38;5;167;01mKeyError\u001b[39;00m(key) \u001b[38;5;28;01mfrom\u001b[39;00m \u001b[38;5;21;01merr\u001b[39;00m\n\u001b[1;32m   3813\u001b[0m \u001b[38;5;28;01mexcept\u001b[39;00m \u001b[38;5;167;01mTypeError\u001b[39;00m:\n\u001b[1;32m   3814\u001b[0m     \u001b[38;5;66;03m# If we have a listlike key, _check_indexing_error will raise\u001b[39;00m\n\u001b[1;32m   3815\u001b[0m     \u001b[38;5;66;03m#  InvalidIndexError. Otherwise we fall through and re-raise\u001b[39;00m\n\u001b[1;32m   3816\u001b[0m     \u001b[38;5;66;03m#  the TypeError.\u001b[39;00m\n\u001b[1;32m   3817\u001b[0m     \u001b[38;5;28mself\u001b[39m\u001b[38;5;241m.\u001b[39m_check_indexing_error(key)\n",
      "\u001b[0;31mKeyError\u001b[0m: 'filtered_tweet'"
     ]
    }
   ],
   "source": [
    "from collections import Counter\n",
    "\n",
    "# Obtenir tous les mots uniques après nettoyage\n",
    "all_words = \" \".join(df['filtered_tweet']).split()\n",
    "word_counts = Counter(all_words)\n",
    "\n",
    "# Afficher les mots fréquents\n",
    "print(\"10 mots les plus fréquents :\")\n",
    "print(word_counts.most_common(10))\n",
    "\n",
    "# Afficher les mots rares\n",
    "print(\"\\n10 mots les plus rares :\")\n",
    "print([word for word, count in word_counts.items() if count == 1][:10])\n",
    "\n",
    "from collections import Counter\n",
    "all_words = \" \".join(df['filtered_tweet']).split()\n",
    "vocab = Counter(all_words)\n",
    "print(f\"Taille du vocabulaire unique filtered_tweet : {len(vocab)}\")\n",
    "\n",
    "all_words = \" \".join(df['tweet']).split()\n",
    "vocab = Counter(all_words)\n",
    "print(f\"Taille du vocabulaire unique sur tweet: {len(vocab)}\")"
   ]
  }
 ],
 "metadata": {
  "kernelspec": {
   "display_name": "mlops-env",
   "language": "python",
   "name": "python3"
  },
  "language_info": {
   "codemirror_mode": {
    "name": "ipython",
    "version": 3
   },
   "file_extension": ".py",
   "mimetype": "text/x-python",
   "name": "python",
   "nbconvert_exporter": "python",
   "pygments_lexer": "ipython3",
   "version": "3.9.20"
  }
 },
 "nbformat": 4,
 "nbformat_minor": 2
}
